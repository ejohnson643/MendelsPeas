{
 "cells": [
  {
   "cell_type": "markdown",
   "id": "b0f3d634-8e9c-418b-9f24-eda589ff07e7",
   "metadata": {},
   "source": [
    "# _In Silico_ Statistics: Empirical Hypothesis Testing\n",
    "\n",
    "## Exploring Gregor Mendel's Data"
   ]
  },
  {
   "cell_type": "code",
   "execution_count": null,
   "id": "dc6f6f04-4c4a-46cb-b4c7-c9bd7e3220b4",
   "metadata": {},
   "outputs": [],
   "source": [
    "import matplotlib.pyplot as plt\n",
    "import numpy as np\n",
    "import pandas as pd\n",
    "import seaborn as sns\n",
    "import random\n",
    "\n",
    "sns.set()"
   ]
  },
  {
   "cell_type": "markdown",
   "id": "84141159-708b-4bdc-9438-4660db522db8",
   "metadata": {},
   "source": [
    "![](./354px-Gregor_Mendel_2.jpg)"
   ]
  },
  {
   "cell_type": "markdown",
   "id": "52da8225-1492-48af-a88d-615a8091abdd",
   "metadata": {},
   "source": [
    "![](./Gregor_Mendel_characteristics_of_pea_plants_english.png)"
   ]
  },
  {
   "cell_type": "markdown",
   "id": "fc9812c8-2b22-4f4d-b704-76d225a5915f",
   "metadata": {},
   "source": [
    "## Mendel did 84 experiments, each a whole garden of pea plants\n",
    "\n",
    "## How can we use a computer to do 10,000?"
   ]
  },
  {
   "cell_type": "code",
   "execution_count": null,
   "id": "81a20724-233f-4b12-bd51-6748967fcaa4",
   "metadata": {},
   "outputs": [],
   "source": [
    "data = pd.read_csv('./MendelData.csv')\n",
    "data"
   ]
  },
  {
   "cell_type": "markdown",
   "id": "eb6908f1-d0a6-4ad5-aa20-71977abc7f85",
   "metadata": {},
   "source": [
    "## Mendel's hypothesis\n",
    "\n",
    "![](./punnett_peas_f2b.jpg)"
   ]
  },
  {
   "cell_type": "markdown",
   "id": "a044f5a5-e5dd-4dab-ab6d-dc63e763d073",
   "metadata": {},
   "source": [
    "## Identify a quantitative feature"
   ]
  },
  {
   "cell_type": "code",
   "execution_count": null,
   "id": "afa6d88a-4893-4553-995d-3fef63087cef",
   "metadata": {},
   "outputs": [],
   "source": [
    "fig, ax = plt.subplots(1, 1, figsize=(8, 4))\n",
    "\n",
    "ax.scatter(data['RoundPeas'], data['WrinkledPeas'])\n",
    "ax.set(xlabel=\"Number of Round Peas\", ylabel=\"Number of Wrinkled Peas\", xscale='log', yscale='log');"
   ]
  },
  {
   "cell_type": "code",
   "execution_count": null,
   "id": "e04f9ce9-7977-4953-b587-a766f5b062ad",
   "metadata": {},
   "outputs": [],
   "source": []
  },
  {
   "cell_type": "markdown",
   "id": "7ba662c4-d676-4e0d-936d-2b81fb8120f7",
   "metadata": {},
   "source": [
    "## Simulate Mendel: can we quantify his hypothesis?"
   ]
  },
  {
   "cell_type": "code",
   "execution_count": null,
   "id": "a3acf415-3a19-4af6-a487-33638426b339",
   "metadata": {},
   "outputs": [],
   "source": []
  },
  {
   "cell_type": "markdown",
   "id": "bd66554e-eec3-4b06-8bc3-3c55d5ad55d4",
   "metadata": {},
   "source": [
    "## Compare data to quantitated hypothesis"
   ]
  },
  {
   "cell_type": "code",
   "execution_count": null,
   "id": "db5f5125-1acb-47dd-b59d-041dd6b8f006",
   "metadata": {},
   "outputs": [],
   "source": []
  },
  {
   "cell_type": "code",
   "execution_count": null,
   "id": "5eb00a1a-0c0b-467b-bacb-dfe82725357a",
   "metadata": {},
   "outputs": [],
   "source": []
  }
 ],
 "metadata": {
  "kernelspec": {
   "display_name": "Python 3 (ipykernel)",
   "language": "python",
   "name": "python3"
  },
  "language_info": {
   "codemirror_mode": {
    "name": "ipython",
    "version": 3
   },
   "file_extension": ".py",
   "mimetype": "text/x-python",
   "name": "python",
   "nbconvert_exporter": "python",
   "pygments_lexer": "ipython3",
   "version": "3.10.12"
  }
 },
 "nbformat": 4,
 "nbformat_minor": 5
}
